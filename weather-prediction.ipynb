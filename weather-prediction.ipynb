{
 "cells": [
  {
   "cell_type": "code",
   "execution_count": 1,
   "id": "c9a3f28c",
   "metadata": {
    "_cell_guid": "b1076dfc-b9ad-4769-8c92-a6c4dae69d19",
    "_uuid": "8f2839f25d086af736a60e9eeb907d3b93b6e0e5",
    "execution": {
     "iopub.execute_input": "2021-10-31T10:13:15.793060Z",
     "iopub.status.busy": "2021-10-31T10:13:15.791191Z",
     "iopub.status.idle": "2021-10-31T10:13:15.814833Z",
     "shell.execute_reply": "2021-10-31T10:13:15.815476Z",
     "shell.execute_reply.started": "2021-10-31T05:37:13.494135Z"
    },
    "papermill": {
     "duration": 0.05834,
     "end_time": "2021-10-31T10:13:15.815808",
     "exception": false,
     "start_time": "2021-10-31T10:13:15.757468",
     "status": "completed"
    },
    "tags": []
   },
   "outputs": [
    {
     "name": "stdout",
     "output_type": "stream",
     "text": [
      "/kaggle/input/weather-dataset/weatherHistory.csv\n"
     ]
    }
   ],
   "source": [
    "# This Python 3 environment comes with many helpful analytics libraries installed\n",
    "# It is defined by the kaggle/python Docker image: https://github.com/kaggle/docker-python\n",
    "# For example, here's several helpful packages to load\n",
    "\n",
    "import numpy as np # linear algebra\n",
    "import pandas as pd # data processing, CSV file I/O (e.g. pd.read_csv)\n",
    "\n",
    "# Input data files are available in the read-only \"../input/\" directory\n",
    "# For example, running this (by clicking run or pressing Shift+Enter) will list all files under the input directory\n",
    "\n",
    "import os\n",
    "for dirname, _, filenames in os.walk('/kaggle/input'):\n",
    "    for filename in filenames:\n",
    "        print(os.path.join(dirname, filename))\n",
    "\n",
    "# You can write up to 20GB to the current directory (/kaggle/working/) that gets preserved as output when you create a version using \"Save & Run All\" \n",
    "# You can also write temporary files to /kaggle/temp/, but they won't be saved outside of the current session"
   ]
  },
  {
   "cell_type": "markdown",
   "id": "5062f424",
   "metadata": {
    "papermill": {
     "duration": 0.026741,
     "end_time": "2021-10-31T10:13:15.871020",
     "exception": false,
     "start_time": "2021-10-31T10:13:15.844279",
     "status": "completed"
    },
    "tags": []
   },
   "source": [
    "<h1>Weather Prediction<\\h1>"
   ]
  },
  {
   "cell_type": "code",
   "execution_count": 2,
   "id": "b3b8df23",
   "metadata": {
    "execution": {
     "iopub.execute_input": "2021-10-31T10:13:15.928415Z",
     "iopub.status.busy": "2021-10-31T10:13:15.927422Z",
     "iopub.status.idle": "2021-10-31T10:13:15.931191Z",
     "shell.execute_reply": "2021-10-31T10:13:15.931809Z",
     "shell.execute_reply.started": "2021-10-31T05:37:17.054303Z"
    },
    "papermill": {
     "duration": 0.03418,
     "end_time": "2021-10-31T10:13:15.931980",
     "exception": false,
     "start_time": "2021-10-31T10:13:15.897800",
     "status": "completed"
    },
    "tags": []
   },
   "outputs": [],
   "source": [
    "import numpy as np\n",
    "import pandas as pd"
   ]
  },
  {
   "cell_type": "code",
   "execution_count": 3,
   "id": "c232de62",
   "metadata": {
    "execution": {
     "iopub.execute_input": "2021-10-31T10:13:15.991645Z",
     "iopub.status.busy": "2021-10-31T10:13:15.990641Z",
     "iopub.status.idle": "2021-10-31T10:13:16.463197Z",
     "shell.execute_reply": "2021-10-31T10:13:16.463766Z",
     "shell.execute_reply.started": "2021-10-31T05:37:20.564979Z"
    },
    "papermill": {
     "duration": 0.504412,
     "end_time": "2021-10-31T10:13:16.463941",
     "exception": false,
     "start_time": "2021-10-31T10:13:15.959529",
     "status": "completed"
    },
    "tags": []
   },
   "outputs": [],
   "source": [
    "# Importing the dataset\n",
    "data = pd.read_csv('../input/weather-dataset/weatherHistory.csv')"
   ]
  },
  {
   "cell_type": "code",
   "execution_count": 4,
   "id": "463956e5",
   "metadata": {
    "execution": {
     "iopub.execute_input": "2021-10-31T10:13:16.522223Z",
     "iopub.status.busy": "2021-10-31T10:13:16.521160Z",
     "iopub.status.idle": "2021-10-31T10:13:16.548753Z",
     "shell.execute_reply": "2021-10-31T10:13:16.549268Z",
     "shell.execute_reply.started": "2021-10-31T05:37:23.955228Z"
    },
    "papermill": {
     "duration": 0.05826,
     "end_time": "2021-10-31T10:13:16.549437",
     "exception": false,
     "start_time": "2021-10-31T10:13:16.491177",
     "status": "completed"
    },
    "tags": []
   },
   "outputs": [
    {
     "data": {
      "text/html": [
       "<div>\n",
       "<style scoped>\n",
       "    .dataframe tbody tr th:only-of-type {\n",
       "        vertical-align: middle;\n",
       "    }\n",
       "\n",
       "    .dataframe tbody tr th {\n",
       "        vertical-align: top;\n",
       "    }\n",
       "\n",
       "    .dataframe thead th {\n",
       "        text-align: right;\n",
       "    }\n",
       "</style>\n",
       "<table border=\"1\" class=\"dataframe\">\n",
       "  <thead>\n",
       "    <tr style=\"text-align: right;\">\n",
       "      <th></th>\n",
       "      <th>Formatted Date</th>\n",
       "      <th>Summary</th>\n",
       "      <th>Precip Type</th>\n",
       "      <th>Temperature (C)</th>\n",
       "      <th>Apparent Temperature (C)</th>\n",
       "      <th>Humidity</th>\n",
       "      <th>Wind Speed (km/h)</th>\n",
       "      <th>Wind Bearing (degrees)</th>\n",
       "      <th>Visibility (km)</th>\n",
       "      <th>Loud Cover</th>\n",
       "      <th>Pressure (millibars)</th>\n",
       "      <th>Daily Summary</th>\n",
       "    </tr>\n",
       "  </thead>\n",
       "  <tbody>\n",
       "    <tr>\n",
       "      <th>0</th>\n",
       "      <td>2006-04-01 00:00:00.000 +0200</td>\n",
       "      <td>Partly Cloudy</td>\n",
       "      <td>rain</td>\n",
       "      <td>9.472222</td>\n",
       "      <td>7.388889</td>\n",
       "      <td>0.89</td>\n",
       "      <td>14.1197</td>\n",
       "      <td>251.0</td>\n",
       "      <td>15.8263</td>\n",
       "      <td>0.0</td>\n",
       "      <td>1015.13</td>\n",
       "      <td>Partly cloudy throughout the day.</td>\n",
       "    </tr>\n",
       "    <tr>\n",
       "      <th>1</th>\n",
       "      <td>2006-04-01 01:00:00.000 +0200</td>\n",
       "      <td>Partly Cloudy</td>\n",
       "      <td>rain</td>\n",
       "      <td>9.355556</td>\n",
       "      <td>7.227778</td>\n",
       "      <td>0.86</td>\n",
       "      <td>14.2646</td>\n",
       "      <td>259.0</td>\n",
       "      <td>15.8263</td>\n",
       "      <td>0.0</td>\n",
       "      <td>1015.63</td>\n",
       "      <td>Partly cloudy throughout the day.</td>\n",
       "    </tr>\n",
       "    <tr>\n",
       "      <th>2</th>\n",
       "      <td>2006-04-01 02:00:00.000 +0200</td>\n",
       "      <td>Mostly Cloudy</td>\n",
       "      <td>rain</td>\n",
       "      <td>9.377778</td>\n",
       "      <td>9.377778</td>\n",
       "      <td>0.89</td>\n",
       "      <td>3.9284</td>\n",
       "      <td>204.0</td>\n",
       "      <td>14.9569</td>\n",
       "      <td>0.0</td>\n",
       "      <td>1015.94</td>\n",
       "      <td>Partly cloudy throughout the day.</td>\n",
       "    </tr>\n",
       "    <tr>\n",
       "      <th>3</th>\n",
       "      <td>2006-04-01 03:00:00.000 +0200</td>\n",
       "      <td>Partly Cloudy</td>\n",
       "      <td>rain</td>\n",
       "      <td>8.288889</td>\n",
       "      <td>5.944444</td>\n",
       "      <td>0.83</td>\n",
       "      <td>14.1036</td>\n",
       "      <td>269.0</td>\n",
       "      <td>15.8263</td>\n",
       "      <td>0.0</td>\n",
       "      <td>1016.41</td>\n",
       "      <td>Partly cloudy throughout the day.</td>\n",
       "    </tr>\n",
       "    <tr>\n",
       "      <th>4</th>\n",
       "      <td>2006-04-01 04:00:00.000 +0200</td>\n",
       "      <td>Mostly Cloudy</td>\n",
       "      <td>rain</td>\n",
       "      <td>8.755556</td>\n",
       "      <td>6.977778</td>\n",
       "      <td>0.83</td>\n",
       "      <td>11.0446</td>\n",
       "      <td>259.0</td>\n",
       "      <td>15.8263</td>\n",
       "      <td>0.0</td>\n",
       "      <td>1016.51</td>\n",
       "      <td>Partly cloudy throughout the day.</td>\n",
       "    </tr>\n",
       "  </tbody>\n",
       "</table>\n",
       "</div>"
      ],
      "text/plain": [
       "                  Formatted Date        Summary Precip Type  Temperature (C)  \\\n",
       "0  2006-04-01 00:00:00.000 +0200  Partly Cloudy        rain         9.472222   \n",
       "1  2006-04-01 01:00:00.000 +0200  Partly Cloudy        rain         9.355556   \n",
       "2  2006-04-01 02:00:00.000 +0200  Mostly Cloudy        rain         9.377778   \n",
       "3  2006-04-01 03:00:00.000 +0200  Partly Cloudy        rain         8.288889   \n",
       "4  2006-04-01 04:00:00.000 +0200  Mostly Cloudy        rain         8.755556   \n",
       "\n",
       "   Apparent Temperature (C)  Humidity  Wind Speed (km/h)  \\\n",
       "0                  7.388889      0.89            14.1197   \n",
       "1                  7.227778      0.86            14.2646   \n",
       "2                  9.377778      0.89             3.9284   \n",
       "3                  5.944444      0.83            14.1036   \n",
       "4                  6.977778      0.83            11.0446   \n",
       "\n",
       "   Wind Bearing (degrees)  Visibility (km)  Loud Cover  Pressure (millibars)  \\\n",
       "0                   251.0          15.8263         0.0               1015.13   \n",
       "1                   259.0          15.8263         0.0               1015.63   \n",
       "2                   204.0          14.9569         0.0               1015.94   \n",
       "3                   269.0          15.8263         0.0               1016.41   \n",
       "4                   259.0          15.8263         0.0               1016.51   \n",
       "\n",
       "                       Daily Summary  \n",
       "0  Partly cloudy throughout the day.  \n",
       "1  Partly cloudy throughout the day.  \n",
       "2  Partly cloudy throughout the day.  \n",
       "3  Partly cloudy throughout the day.  \n",
       "4  Partly cloudy throughout the day.  "
      ]
     },
     "execution_count": 4,
     "metadata": {},
     "output_type": "execute_result"
    }
   ],
   "source": [
    "data.head()"
   ]
  },
  {
   "cell_type": "code",
   "execution_count": 5,
   "id": "8baad7ac",
   "metadata": {
    "execution": {
     "iopub.execute_input": "2021-10-31T10:13:16.610012Z",
     "iopub.status.busy": "2021-10-31T10:13:16.609158Z",
     "iopub.status.idle": "2021-10-31T10:13:16.612299Z",
     "shell.execute_reply": "2021-10-31T10:13:16.612803Z",
     "shell.execute_reply.started": "2021-10-31T05:37:26.426963Z"
    },
    "papermill": {
     "duration": 0.036392,
     "end_time": "2021-10-31T10:13:16.612969",
     "exception": false,
     "start_time": "2021-10-31T10:13:16.576577",
     "status": "completed"
    },
    "tags": []
   },
   "outputs": [
    {
     "data": {
      "text/plain": [
       "(96453, 12)"
      ]
     },
     "execution_count": 5,
     "metadata": {},
     "output_type": "execute_result"
    }
   ],
   "source": [
    "data.shape"
   ]
  },
  {
   "cell_type": "markdown",
   "id": "78f1055c",
   "metadata": {
    "papermill": {
     "duration": 0.027274,
     "end_time": "2021-10-31T10:13:16.667548",
     "exception": false,
     "start_time": "2021-10-31T10:13:16.640274",
     "status": "completed"
    },
    "tags": []
   },
   "source": []
  },
  {
   "cell_type": "markdown",
   "id": "1bf344bb",
   "metadata": {
    "papermill": {
     "duration": 0.027235,
     "end_time": "2021-10-31T10:13:16.722295",
     "exception": false,
     "start_time": "2021-10-31T10:13:16.695060",
     "status": "completed"
    },
    "tags": []
   },
   "source": [
    "# Preparing Data for training the model"
   ]
  },
  {
   "cell_type": "code",
   "execution_count": 6,
   "id": "f9daa69d",
   "metadata": {
    "execution": {
     "iopub.execute_input": "2021-10-31T10:13:16.784804Z",
     "iopub.status.busy": "2021-10-31T10:13:16.784071Z",
     "iopub.status.idle": "2021-10-31T10:13:16.795376Z",
     "shell.execute_reply": "2021-10-31T10:13:16.794835Z",
     "shell.execute_reply.started": "2021-10-31T05:37:29.446993Z"
    },
    "papermill": {
     "duration": 0.045746,
     "end_time": "2021-10-31T10:13:16.795523",
     "exception": false,
     "start_time": "2021-10-31T10:13:16.749777",
     "status": "completed"
    },
    "tags": []
   },
   "outputs": [
    {
     "data": {
      "text/plain": [
       "0.0    96453\n",
       "Name: Loud Cover, dtype: int64"
      ]
     },
     "execution_count": 6,
     "metadata": {},
     "output_type": "execute_result"
    }
   ],
   "source": [
    "data['Loud Cover'].value_counts()"
   ]
  },
  {
   "cell_type": "code",
   "execution_count": 7,
   "id": "165f0fab",
   "metadata": {
    "execution": {
     "iopub.execute_input": "2021-10-31T10:13:16.856005Z",
     "iopub.status.busy": "2021-10-31T10:13:16.855355Z",
     "iopub.status.idle": "2021-10-31T10:13:16.868841Z",
     "shell.execute_reply": "2021-10-31T10:13:16.868195Z",
     "shell.execute_reply.started": "2021-10-31T05:37:40.694588Z"
    },
    "papermill": {
     "duration": 0.045091,
     "end_time": "2021-10-31T10:13:16.868997",
     "exception": false,
     "start_time": "2021-10-31T10:13:16.823906",
     "status": "completed"
    },
    "tags": []
   },
   "outputs": [],
   "source": [
    "# Removing variable which wont have much impact on the prediction. value of loud cover is same for all rows, so it wont affect the prediction.\n",
    "data.drop(['Formatted Date','Daily Summary','Loud Cover','Wind Bearing (degrees)'],axis=1,inplace=True)"
   ]
  },
  {
   "cell_type": "code",
   "execution_count": 8,
   "id": "72a12c7b",
   "metadata": {
    "execution": {
     "iopub.execute_input": "2021-10-31T10:13:16.944417Z",
     "iopub.status.busy": "2021-10-31T10:13:16.938238Z",
     "iopub.status.idle": "2021-10-31T10:13:16.947331Z",
     "shell.execute_reply": "2021-10-31T10:13:16.947856Z",
     "shell.execute_reply.started": "2021-10-31T05:37:48.773382Z"
    },
    "papermill": {
     "duration": 0.050843,
     "end_time": "2021-10-31T10:13:16.948031",
     "exception": false,
     "start_time": "2021-10-31T10:13:16.897188",
     "status": "completed"
    },
    "tags": []
   },
   "outputs": [
    {
     "data": {
      "text/html": [
       "<div>\n",
       "<style scoped>\n",
       "    .dataframe tbody tr th:only-of-type {\n",
       "        vertical-align: middle;\n",
       "    }\n",
       "\n",
       "    .dataframe tbody tr th {\n",
       "        vertical-align: top;\n",
       "    }\n",
       "\n",
       "    .dataframe thead th {\n",
       "        text-align: right;\n",
       "    }\n",
       "</style>\n",
       "<table border=\"1\" class=\"dataframe\">\n",
       "  <thead>\n",
       "    <tr style=\"text-align: right;\">\n",
       "      <th></th>\n",
       "      <th>Summary</th>\n",
       "      <th>Precip Type</th>\n",
       "      <th>Temperature (C)</th>\n",
       "      <th>Apparent Temperature (C)</th>\n",
       "      <th>Humidity</th>\n",
       "      <th>Wind Speed (km/h)</th>\n",
       "      <th>Visibility (km)</th>\n",
       "      <th>Pressure (millibars)</th>\n",
       "    </tr>\n",
       "  </thead>\n",
       "  <tbody>\n",
       "    <tr>\n",
       "      <th>0</th>\n",
       "      <td>Partly Cloudy</td>\n",
       "      <td>rain</td>\n",
       "      <td>9.472222</td>\n",
       "      <td>7.388889</td>\n",
       "      <td>0.89</td>\n",
       "      <td>14.1197</td>\n",
       "      <td>15.8263</td>\n",
       "      <td>1015.13</td>\n",
       "    </tr>\n",
       "    <tr>\n",
       "      <th>1</th>\n",
       "      <td>Partly Cloudy</td>\n",
       "      <td>rain</td>\n",
       "      <td>9.355556</td>\n",
       "      <td>7.227778</td>\n",
       "      <td>0.86</td>\n",
       "      <td>14.2646</td>\n",
       "      <td>15.8263</td>\n",
       "      <td>1015.63</td>\n",
       "    </tr>\n",
       "    <tr>\n",
       "      <th>2</th>\n",
       "      <td>Mostly Cloudy</td>\n",
       "      <td>rain</td>\n",
       "      <td>9.377778</td>\n",
       "      <td>9.377778</td>\n",
       "      <td>0.89</td>\n",
       "      <td>3.9284</td>\n",
       "      <td>14.9569</td>\n",
       "      <td>1015.94</td>\n",
       "    </tr>\n",
       "    <tr>\n",
       "      <th>3</th>\n",
       "      <td>Partly Cloudy</td>\n",
       "      <td>rain</td>\n",
       "      <td>8.288889</td>\n",
       "      <td>5.944444</td>\n",
       "      <td>0.83</td>\n",
       "      <td>14.1036</td>\n",
       "      <td>15.8263</td>\n",
       "      <td>1016.41</td>\n",
       "    </tr>\n",
       "    <tr>\n",
       "      <th>4</th>\n",
       "      <td>Mostly Cloudy</td>\n",
       "      <td>rain</td>\n",
       "      <td>8.755556</td>\n",
       "      <td>6.977778</td>\n",
       "      <td>0.83</td>\n",
       "      <td>11.0446</td>\n",
       "      <td>15.8263</td>\n",
       "      <td>1016.51</td>\n",
       "    </tr>\n",
       "    <tr>\n",
       "      <th>...</th>\n",
       "      <td>...</td>\n",
       "      <td>...</td>\n",
       "      <td>...</td>\n",
       "      <td>...</td>\n",
       "      <td>...</td>\n",
       "      <td>...</td>\n",
       "      <td>...</td>\n",
       "      <td>...</td>\n",
       "    </tr>\n",
       "    <tr>\n",
       "      <th>96448</th>\n",
       "      <td>Partly Cloudy</td>\n",
       "      <td>rain</td>\n",
       "      <td>26.016667</td>\n",
       "      <td>26.016667</td>\n",
       "      <td>0.43</td>\n",
       "      <td>10.9963</td>\n",
       "      <td>16.1000</td>\n",
       "      <td>1014.36</td>\n",
       "    </tr>\n",
       "    <tr>\n",
       "      <th>96449</th>\n",
       "      <td>Partly Cloudy</td>\n",
       "      <td>rain</td>\n",
       "      <td>24.583333</td>\n",
       "      <td>24.583333</td>\n",
       "      <td>0.48</td>\n",
       "      <td>10.0947</td>\n",
       "      <td>15.5526</td>\n",
       "      <td>1015.16</td>\n",
       "    </tr>\n",
       "    <tr>\n",
       "      <th>96450</th>\n",
       "      <td>Partly Cloudy</td>\n",
       "      <td>rain</td>\n",
       "      <td>22.038889</td>\n",
       "      <td>22.038889</td>\n",
       "      <td>0.56</td>\n",
       "      <td>8.9838</td>\n",
       "      <td>16.1000</td>\n",
       "      <td>1015.66</td>\n",
       "    </tr>\n",
       "    <tr>\n",
       "      <th>96451</th>\n",
       "      <td>Partly Cloudy</td>\n",
       "      <td>rain</td>\n",
       "      <td>21.522222</td>\n",
       "      <td>21.522222</td>\n",
       "      <td>0.60</td>\n",
       "      <td>10.5294</td>\n",
       "      <td>16.1000</td>\n",
       "      <td>1015.95</td>\n",
       "    </tr>\n",
       "    <tr>\n",
       "      <th>96452</th>\n",
       "      <td>Partly Cloudy</td>\n",
       "      <td>rain</td>\n",
       "      <td>20.438889</td>\n",
       "      <td>20.438889</td>\n",
       "      <td>0.61</td>\n",
       "      <td>5.8765</td>\n",
       "      <td>15.5204</td>\n",
       "      <td>1016.16</td>\n",
       "    </tr>\n",
       "  </tbody>\n",
       "</table>\n",
       "<p>96453 rows × 8 columns</p>\n",
       "</div>"
      ],
      "text/plain": [
       "             Summary Precip Type  Temperature (C)  Apparent Temperature (C)  \\\n",
       "0      Partly Cloudy        rain         9.472222                  7.388889   \n",
       "1      Partly Cloudy        rain         9.355556                  7.227778   \n",
       "2      Mostly Cloudy        rain         9.377778                  9.377778   \n",
       "3      Partly Cloudy        rain         8.288889                  5.944444   \n",
       "4      Mostly Cloudy        rain         8.755556                  6.977778   \n",
       "...              ...         ...              ...                       ...   \n",
       "96448  Partly Cloudy        rain        26.016667                 26.016667   \n",
       "96449  Partly Cloudy        rain        24.583333                 24.583333   \n",
       "96450  Partly Cloudy        rain        22.038889                 22.038889   \n",
       "96451  Partly Cloudy        rain        21.522222                 21.522222   \n",
       "96452  Partly Cloudy        rain        20.438889                 20.438889   \n",
       "\n",
       "       Humidity  Wind Speed (km/h)  Visibility (km)  Pressure (millibars)  \n",
       "0          0.89            14.1197          15.8263               1015.13  \n",
       "1          0.86            14.2646          15.8263               1015.63  \n",
       "2          0.89             3.9284          14.9569               1015.94  \n",
       "3          0.83            14.1036          15.8263               1016.41  \n",
       "4          0.83            11.0446          15.8263               1016.51  \n",
       "...         ...                ...              ...                   ...  \n",
       "96448      0.43            10.9963          16.1000               1014.36  \n",
       "96449      0.48            10.0947          15.5526               1015.16  \n",
       "96450      0.56             8.9838          16.1000               1015.66  \n",
       "96451      0.60            10.5294          16.1000               1015.95  \n",
       "96452      0.61             5.8765          15.5204               1016.16  \n",
       "\n",
       "[96453 rows x 8 columns]"
      ]
     },
     "execution_count": 8,
     "metadata": {},
     "output_type": "execute_result"
    }
   ],
   "source": [
    "data"
   ]
  },
  {
   "cell_type": "code",
   "execution_count": 9,
   "id": "d96f5f77",
   "metadata": {
    "execution": {
     "iopub.execute_input": "2021-10-31T10:13:17.008346Z",
     "iopub.status.busy": "2021-10-31T10:13:17.007648Z",
     "iopub.status.idle": "2021-10-31T10:13:17.012242Z",
     "shell.execute_reply": "2021-10-31T10:13:17.012696Z",
     "shell.execute_reply.started": "2021-10-31T05:37:54.314348Z"
    },
    "papermill": {
     "duration": 0.036347,
     "end_time": "2021-10-31T10:13:17.012884",
     "exception": false,
     "start_time": "2021-10-31T10:13:16.976537",
     "status": "completed"
    },
    "tags": []
   },
   "outputs": [
    {
     "data": {
      "text/plain": [
       "(96453, 8)"
      ]
     },
     "execution_count": 9,
     "metadata": {},
     "output_type": "execute_result"
    }
   ],
   "source": [
    "data.shape"
   ]
  },
  {
   "cell_type": "code",
   "execution_count": 10,
   "id": "227a4040",
   "metadata": {
    "execution": {
     "iopub.execute_input": "2021-10-31T10:13:17.096174Z",
     "iopub.status.busy": "2021-10-31T10:13:17.095445Z",
     "iopub.status.idle": "2021-10-31T10:13:17.104110Z",
     "shell.execute_reply": "2021-10-31T10:13:17.103432Z",
     "shell.execute_reply.started": "2021-10-31T05:37:56.967802Z"
    },
    "papermill": {
     "duration": 0.062587,
     "end_time": "2021-10-31T10:13:17.104250",
     "exception": false,
     "start_time": "2021-10-31T10:13:17.041663",
     "status": "completed"
    },
    "tags": []
   },
   "outputs": [
    {
     "data": {
      "text/plain": [
       "Summary                       0\n",
       "Precip Type                 517\n",
       "Temperature (C)               0\n",
       "Apparent Temperature (C)      0\n",
       "Humidity                      0\n",
       "Wind Speed (km/h)             0\n",
       "Visibility (km)               0\n",
       "Pressure (millibars)          0\n",
       "dtype: int64"
      ]
     },
     "execution_count": 10,
     "metadata": {},
     "output_type": "execute_result"
    }
   ],
   "source": [
    "data.isnull().sum()"
   ]
  },
  {
   "cell_type": "code",
   "execution_count": 11,
   "id": "1be1d23d",
   "metadata": {
    "execution": {
     "iopub.execute_input": "2021-10-31T10:13:17.182849Z",
     "iopub.status.busy": "2021-10-31T10:13:17.181954Z",
     "iopub.status.idle": "2021-10-31T10:13:17.185667Z",
     "shell.execute_reply": "2021-10-31T10:13:17.185123Z",
     "shell.execute_reply.started": "2021-10-31T05:38:31.823205Z"
    },
    "papermill": {
     "duration": 0.052387,
     "end_time": "2021-10-31T10:13:17.185831",
     "exception": false,
     "start_time": "2021-10-31T10:13:17.133444",
     "status": "completed"
    },
    "tags": []
   },
   "outputs": [
    {
     "data": {
      "text/plain": [
       "rain    85224\n",
       "snow    10712\n",
       "Name: Precip Type, dtype: int64"
      ]
     },
     "execution_count": 11,
     "metadata": {},
     "output_type": "execute_result"
    }
   ],
   "source": [
    "data['Precip Type'].value_counts()"
   ]
  },
  {
   "cell_type": "code",
   "execution_count": 12,
   "id": "0edb3358",
   "metadata": {
    "execution": {
     "iopub.execute_input": "2021-10-31T10:13:17.249561Z",
     "iopub.status.busy": "2021-10-31T10:13:17.248491Z",
     "iopub.status.idle": "2021-10-31T10:13:17.267686Z",
     "shell.execute_reply": "2021-10-31T10:13:17.268237Z",
     "shell.execute_reply.started": "2021-10-31T05:38:36.014192Z"
    },
    "papermill": {
     "duration": 0.052973,
     "end_time": "2021-10-31T10:13:17.268437",
     "exception": false,
     "start_time": "2021-10-31T10:13:17.215464",
     "status": "completed"
    },
    "tags": []
   },
   "outputs": [],
   "source": [
    "data['Precip Type'].fillna(method='ffill',inplace=True,axis=0)"
   ]
  },
  {
   "cell_type": "code",
   "execution_count": 13,
   "id": "45801c9b",
   "metadata": {
    "execution": {
     "iopub.execute_input": "2021-10-31T10:13:17.348586Z",
     "iopub.status.busy": "2021-10-31T10:13:17.347764Z",
     "iopub.status.idle": "2021-10-31T10:13:17.350912Z",
     "shell.execute_reply": "2021-10-31T10:13:17.351395Z",
     "shell.execute_reply.started": "2021-10-31T05:39:06.489937Z"
    },
    "papermill": {
     "duration": 0.052754,
     "end_time": "2021-10-31T10:13:17.351594",
     "exception": false,
     "start_time": "2021-10-31T10:13:17.298840",
     "status": "completed"
    },
    "tags": []
   },
   "outputs": [
    {
     "data": {
      "text/plain": [
       "rain    85741\n",
       "snow    10712\n",
       "Name: Precip Type, dtype: int64"
      ]
     },
     "execution_count": 13,
     "metadata": {},
     "output_type": "execute_result"
    }
   ],
   "source": [
    "data['Precip Type'].value_counts()"
   ]
  },
  {
   "cell_type": "code",
   "execution_count": 14,
   "id": "b40188de",
   "metadata": {
    "execution": {
     "iopub.execute_input": "2021-10-31T10:13:17.416912Z",
     "iopub.status.busy": "2021-10-31T10:13:17.415701Z",
     "iopub.status.idle": "2021-10-31T10:13:18.417539Z",
     "shell.execute_reply": "2021-10-31T10:13:18.416895Z",
     "shell.execute_reply.started": "2021-10-31T05:40:37.134989Z"
    },
    "papermill": {
     "duration": 1.035772,
     "end_time": "2021-10-31T10:13:18.417684",
     "exception": false,
     "start_time": "2021-10-31T10:13:17.381912",
     "status": "completed"
    },
    "tags": []
   },
   "outputs": [],
   "source": [
    "# Converting categorical data into numerical data\n",
    "from sklearn.preprocessing import LabelEncoder\n",
    "le = LabelEncoder()\n",
    "data['Precip Type']=le.fit_transform(data['Precip Type'])\n",
    "data['Summary']=le.fit_transform(data['Summary'])"
   ]
  },
  {
   "cell_type": "code",
   "execution_count": 15,
   "id": "1f09899e",
   "metadata": {
    "execution": {
     "iopub.execute_input": "2021-10-31T10:13:18.497139Z",
     "iopub.status.busy": "2021-10-31T10:13:18.484657Z",
     "iopub.status.idle": "2021-10-31T10:13:18.500473Z",
     "shell.execute_reply": "2021-10-31T10:13:18.499972Z",
     "shell.execute_reply.started": "2021-10-31T05:40:41.224136Z"
    },
    "papermill": {
     "duration": 0.05271,
     "end_time": "2021-10-31T10:13:18.500612",
     "exception": false,
     "start_time": "2021-10-31T10:13:18.447902",
     "status": "completed"
    },
    "tags": []
   },
   "outputs": [
    {
     "data": {
      "text/html": [
       "<div>\n",
       "<style scoped>\n",
       "    .dataframe tbody tr th:only-of-type {\n",
       "        vertical-align: middle;\n",
       "    }\n",
       "\n",
       "    .dataframe tbody tr th {\n",
       "        vertical-align: top;\n",
       "    }\n",
       "\n",
       "    .dataframe thead th {\n",
       "        text-align: right;\n",
       "    }\n",
       "</style>\n",
       "<table border=\"1\" class=\"dataframe\">\n",
       "  <thead>\n",
       "    <tr style=\"text-align: right;\">\n",
       "      <th></th>\n",
       "      <th>Summary</th>\n",
       "      <th>Precip Type</th>\n",
       "      <th>Temperature (C)</th>\n",
       "      <th>Apparent Temperature (C)</th>\n",
       "      <th>Humidity</th>\n",
       "      <th>Wind Speed (km/h)</th>\n",
       "      <th>Visibility (km)</th>\n",
       "      <th>Pressure (millibars)</th>\n",
       "    </tr>\n",
       "  </thead>\n",
       "  <tbody>\n",
       "    <tr>\n",
       "      <th>0</th>\n",
       "      <td>19</td>\n",
       "      <td>0</td>\n",
       "      <td>9.472222</td>\n",
       "      <td>7.388889</td>\n",
       "      <td>0.89</td>\n",
       "      <td>14.1197</td>\n",
       "      <td>15.8263</td>\n",
       "      <td>1015.13</td>\n",
       "    </tr>\n",
       "    <tr>\n",
       "      <th>1</th>\n",
       "      <td>19</td>\n",
       "      <td>0</td>\n",
       "      <td>9.355556</td>\n",
       "      <td>7.227778</td>\n",
       "      <td>0.86</td>\n",
       "      <td>14.2646</td>\n",
       "      <td>15.8263</td>\n",
       "      <td>1015.63</td>\n",
       "    </tr>\n",
       "    <tr>\n",
       "      <th>2</th>\n",
       "      <td>17</td>\n",
       "      <td>0</td>\n",
       "      <td>9.377778</td>\n",
       "      <td>9.377778</td>\n",
       "      <td>0.89</td>\n",
       "      <td>3.9284</td>\n",
       "      <td>14.9569</td>\n",
       "      <td>1015.94</td>\n",
       "    </tr>\n",
       "    <tr>\n",
       "      <th>3</th>\n",
       "      <td>19</td>\n",
       "      <td>0</td>\n",
       "      <td>8.288889</td>\n",
       "      <td>5.944444</td>\n",
       "      <td>0.83</td>\n",
       "      <td>14.1036</td>\n",
       "      <td>15.8263</td>\n",
       "      <td>1016.41</td>\n",
       "    </tr>\n",
       "    <tr>\n",
       "      <th>4</th>\n",
       "      <td>17</td>\n",
       "      <td>0</td>\n",
       "      <td>8.755556</td>\n",
       "      <td>6.977778</td>\n",
       "      <td>0.83</td>\n",
       "      <td>11.0446</td>\n",
       "      <td>15.8263</td>\n",
       "      <td>1016.51</td>\n",
       "    </tr>\n",
       "    <tr>\n",
       "      <th>...</th>\n",
       "      <td>...</td>\n",
       "      <td>...</td>\n",
       "      <td>...</td>\n",
       "      <td>...</td>\n",
       "      <td>...</td>\n",
       "      <td>...</td>\n",
       "      <td>...</td>\n",
       "      <td>...</td>\n",
       "    </tr>\n",
       "    <tr>\n",
       "      <th>96448</th>\n",
       "      <td>19</td>\n",
       "      <td>0</td>\n",
       "      <td>26.016667</td>\n",
       "      <td>26.016667</td>\n",
       "      <td>0.43</td>\n",
       "      <td>10.9963</td>\n",
       "      <td>16.1000</td>\n",
       "      <td>1014.36</td>\n",
       "    </tr>\n",
       "    <tr>\n",
       "      <th>96449</th>\n",
       "      <td>19</td>\n",
       "      <td>0</td>\n",
       "      <td>24.583333</td>\n",
       "      <td>24.583333</td>\n",
       "      <td>0.48</td>\n",
       "      <td>10.0947</td>\n",
       "      <td>15.5526</td>\n",
       "      <td>1015.16</td>\n",
       "    </tr>\n",
       "    <tr>\n",
       "      <th>96450</th>\n",
       "      <td>19</td>\n",
       "      <td>0</td>\n",
       "      <td>22.038889</td>\n",
       "      <td>22.038889</td>\n",
       "      <td>0.56</td>\n",
       "      <td>8.9838</td>\n",
       "      <td>16.1000</td>\n",
       "      <td>1015.66</td>\n",
       "    </tr>\n",
       "    <tr>\n",
       "      <th>96451</th>\n",
       "      <td>19</td>\n",
       "      <td>0</td>\n",
       "      <td>21.522222</td>\n",
       "      <td>21.522222</td>\n",
       "      <td>0.60</td>\n",
       "      <td>10.5294</td>\n",
       "      <td>16.1000</td>\n",
       "      <td>1015.95</td>\n",
       "    </tr>\n",
       "    <tr>\n",
       "      <th>96452</th>\n",
       "      <td>19</td>\n",
       "      <td>0</td>\n",
       "      <td>20.438889</td>\n",
       "      <td>20.438889</td>\n",
       "      <td>0.61</td>\n",
       "      <td>5.8765</td>\n",
       "      <td>15.5204</td>\n",
       "      <td>1016.16</td>\n",
       "    </tr>\n",
       "  </tbody>\n",
       "</table>\n",
       "<p>96453 rows × 8 columns</p>\n",
       "</div>"
      ],
      "text/plain": [
       "       Summary  Precip Type  Temperature (C)  Apparent Temperature (C)  \\\n",
       "0           19            0         9.472222                  7.388889   \n",
       "1           19            0         9.355556                  7.227778   \n",
       "2           17            0         9.377778                  9.377778   \n",
       "3           19            0         8.288889                  5.944444   \n",
       "4           17            0         8.755556                  6.977778   \n",
       "...        ...          ...              ...                       ...   \n",
       "96448       19            0        26.016667                 26.016667   \n",
       "96449       19            0        24.583333                 24.583333   \n",
       "96450       19            0        22.038889                 22.038889   \n",
       "96451       19            0        21.522222                 21.522222   \n",
       "96452       19            0        20.438889                 20.438889   \n",
       "\n",
       "       Humidity  Wind Speed (km/h)  Visibility (km)  Pressure (millibars)  \n",
       "0          0.89            14.1197          15.8263               1015.13  \n",
       "1          0.86            14.2646          15.8263               1015.63  \n",
       "2          0.89             3.9284          14.9569               1015.94  \n",
       "3          0.83            14.1036          15.8263               1016.41  \n",
       "4          0.83            11.0446          15.8263               1016.51  \n",
       "...         ...                ...              ...                   ...  \n",
       "96448      0.43            10.9963          16.1000               1014.36  \n",
       "96449      0.48            10.0947          15.5526               1015.16  \n",
       "96450      0.56             8.9838          16.1000               1015.66  \n",
       "96451      0.60            10.5294          16.1000               1015.95  \n",
       "96452      0.61             5.8765          15.5204               1016.16  \n",
       "\n",
       "[96453 rows x 8 columns]"
      ]
     },
     "execution_count": 15,
     "metadata": {},
     "output_type": "execute_result"
    }
   ],
   "source": [
    "data"
   ]
  },
  {
   "cell_type": "code",
   "execution_count": 16,
   "id": "f60cc4e4",
   "metadata": {
    "execution": {
     "iopub.execute_input": "2021-10-31T10:13:18.568047Z",
     "iopub.status.busy": "2021-10-31T10:13:18.566882Z",
     "iopub.status.idle": "2021-10-31T10:13:18.568979Z",
     "shell.execute_reply": "2021-10-31T10:13:18.569482Z",
     "shell.execute_reply.started": "2021-10-31T05:40:44.892504Z"
    },
    "papermill": {
     "duration": 0.038285,
     "end_time": "2021-10-31T10:13:18.569656",
     "exception": false,
     "start_time": "2021-10-31T10:13:18.531371",
     "status": "completed"
    },
    "tags": []
   },
   "outputs": [],
   "source": [
    "y=data.iloc[:,0] # Dependent Variable "
   ]
  },
  {
   "cell_type": "code",
   "execution_count": 17,
   "id": "00434bb0",
   "metadata": {
    "execution": {
     "iopub.execute_input": "2021-10-31T10:13:18.638234Z",
     "iopub.status.busy": "2021-10-31T10:13:18.637249Z",
     "iopub.status.idle": "2021-10-31T10:13:18.645749Z",
     "shell.execute_reply": "2021-10-31T10:13:18.646253Z",
     "shell.execute_reply.started": "2021-10-31T05:41:24.037207Z"
    },
    "papermill": {
     "duration": 0.045161,
     "end_time": "2021-10-31T10:13:18.646450",
     "exception": false,
     "start_time": "2021-10-31T10:13:18.601289",
     "status": "completed"
    },
    "tags": []
   },
   "outputs": [],
   "source": [
    "x = data.iloc[:,1:]    #Independent variable\n"
   ]
  },
  {
   "cell_type": "code",
   "execution_count": 18,
   "id": "3b3262b6",
   "metadata": {
    "execution": {
     "iopub.execute_input": "2021-10-31T10:13:18.712514Z",
     "iopub.status.busy": "2021-10-31T10:13:18.711491Z",
     "iopub.status.idle": "2021-10-31T10:13:18.747070Z",
     "shell.execute_reply": "2021-10-31T10:13:18.747575Z",
     "shell.execute_reply.started": "2021-10-31T05:41:27.317256Z"
    },
    "papermill": {
     "duration": 0.070711,
     "end_time": "2021-10-31T10:13:18.747781",
     "exception": false,
     "start_time": "2021-10-31T10:13:18.677070",
     "status": "completed"
    },
    "tags": []
   },
   "outputs": [
    {
     "data": {
      "text/html": [
       "<div>\n",
       "<style scoped>\n",
       "    .dataframe tbody tr th:only-of-type {\n",
       "        vertical-align: middle;\n",
       "    }\n",
       "\n",
       "    .dataframe tbody tr th {\n",
       "        vertical-align: top;\n",
       "    }\n",
       "\n",
       "    .dataframe thead th {\n",
       "        text-align: right;\n",
       "    }\n",
       "</style>\n",
       "<table border=\"1\" class=\"dataframe\">\n",
       "  <thead>\n",
       "    <tr style=\"text-align: right;\">\n",
       "      <th></th>\n",
       "      <th>Precip Type</th>\n",
       "      <th>Temperature (C)</th>\n",
       "      <th>Apparent Temperature (C)</th>\n",
       "      <th>Humidity</th>\n",
       "      <th>Wind Speed (km/h)</th>\n",
       "      <th>Visibility (km)</th>\n",
       "      <th>Pressure (millibars)</th>\n",
       "    </tr>\n",
       "  </thead>\n",
       "  <tbody>\n",
       "    <tr>\n",
       "      <th>Precip Type</th>\n",
       "      <td>1.000000</td>\n",
       "      <td>-0.562620</td>\n",
       "      <td>-0.565207</td>\n",
       "      <td>0.232113</td>\n",
       "      <td>-0.067928</td>\n",
       "      <td>-0.312875</td>\n",
       "      <td>0.009008</td>\n",
       "    </tr>\n",
       "    <tr>\n",
       "      <th>Temperature (C)</th>\n",
       "      <td>-0.562620</td>\n",
       "      <td>1.000000</td>\n",
       "      <td>0.992629</td>\n",
       "      <td>-0.632255</td>\n",
       "      <td>0.008957</td>\n",
       "      <td>0.392847</td>\n",
       "      <td>-0.005447</td>\n",
       "    </tr>\n",
       "    <tr>\n",
       "      <th>Apparent Temperature (C)</th>\n",
       "      <td>-0.565207</td>\n",
       "      <td>0.992629</td>\n",
       "      <td>1.000000</td>\n",
       "      <td>-0.602571</td>\n",
       "      <td>-0.056650</td>\n",
       "      <td>0.381718</td>\n",
       "      <td>-0.000219</td>\n",
       "    </tr>\n",
       "    <tr>\n",
       "      <th>Humidity</th>\n",
       "      <td>0.232113</td>\n",
       "      <td>-0.632255</td>\n",
       "      <td>-0.602571</td>\n",
       "      <td>1.000000</td>\n",
       "      <td>-0.224951</td>\n",
       "      <td>-0.369173</td>\n",
       "      <td>0.005454</td>\n",
       "    </tr>\n",
       "    <tr>\n",
       "      <th>Wind Speed (km/h)</th>\n",
       "      <td>-0.067928</td>\n",
       "      <td>0.008957</td>\n",
       "      <td>-0.056650</td>\n",
       "      <td>-0.224951</td>\n",
       "      <td>1.000000</td>\n",
       "      <td>0.100749</td>\n",
       "      <td>-0.049263</td>\n",
       "    </tr>\n",
       "    <tr>\n",
       "      <th>Visibility (km)</th>\n",
       "      <td>-0.312875</td>\n",
       "      <td>0.392847</td>\n",
       "      <td>0.381718</td>\n",
       "      <td>-0.369173</td>\n",
       "      <td>0.100749</td>\n",
       "      <td>1.000000</td>\n",
       "      <td>0.059818</td>\n",
       "    </tr>\n",
       "    <tr>\n",
       "      <th>Pressure (millibars)</th>\n",
       "      <td>0.009008</td>\n",
       "      <td>-0.005447</td>\n",
       "      <td>-0.000219</td>\n",
       "      <td>0.005454</td>\n",
       "      <td>-0.049263</td>\n",
       "      <td>0.059818</td>\n",
       "      <td>1.000000</td>\n",
       "    </tr>\n",
       "  </tbody>\n",
       "</table>\n",
       "</div>"
      ],
      "text/plain": [
       "                          Precip Type  Temperature (C)  \\\n",
       "Precip Type                  1.000000        -0.562620   \n",
       "Temperature (C)             -0.562620         1.000000   \n",
       "Apparent Temperature (C)    -0.565207         0.992629   \n",
       "Humidity                     0.232113        -0.632255   \n",
       "Wind Speed (km/h)           -0.067928         0.008957   \n",
       "Visibility (km)             -0.312875         0.392847   \n",
       "Pressure (millibars)         0.009008        -0.005447   \n",
       "\n",
       "                          Apparent Temperature (C)  Humidity  \\\n",
       "Precip Type                              -0.565207  0.232113   \n",
       "Temperature (C)                           0.992629 -0.632255   \n",
       "Apparent Temperature (C)                  1.000000 -0.602571   \n",
       "Humidity                                 -0.602571  1.000000   \n",
       "Wind Speed (km/h)                        -0.056650 -0.224951   \n",
       "Visibility (km)                           0.381718 -0.369173   \n",
       "Pressure (millibars)                     -0.000219  0.005454   \n",
       "\n",
       "                          Wind Speed (km/h)  Visibility (km)  \\\n",
       "Precip Type                       -0.067928        -0.312875   \n",
       "Temperature (C)                    0.008957         0.392847   \n",
       "Apparent Temperature (C)          -0.056650         0.381718   \n",
       "Humidity                          -0.224951        -0.369173   \n",
       "Wind Speed (km/h)                  1.000000         0.100749   \n",
       "Visibility (km)                    0.100749         1.000000   \n",
       "Pressure (millibars)              -0.049263         0.059818   \n",
       "\n",
       "                          Pressure (millibars)  \n",
       "Precip Type                           0.009008  \n",
       "Temperature (C)                      -0.005447  \n",
       "Apparent Temperature (C)             -0.000219  \n",
       "Humidity                              0.005454  \n",
       "Wind Speed (km/h)                    -0.049263  \n",
       "Visibility (km)                       0.059818  \n",
       "Pressure (millibars)                  1.000000  "
      ]
     },
     "execution_count": 18,
     "metadata": {},
     "output_type": "execute_result"
    }
   ],
   "source": [
    "x.corr()    # checking correlation to drop unnecessary variable"
   ]
  },
  {
   "cell_type": "code",
   "execution_count": 19,
   "id": "a8ec6e7d",
   "metadata": {
    "execution": {
     "iopub.execute_input": "2021-10-31T10:13:18.815863Z",
     "iopub.status.busy": "2021-10-31T10:13:18.814836Z",
     "iopub.status.idle": "2021-10-31T10:13:18.824529Z",
     "shell.execute_reply": "2021-10-31T10:13:18.825043Z",
     "shell.execute_reply.started": "2021-10-31T05:42:40.935062Z"
    },
    "papermill": {
     "duration": 0.044757,
     "end_time": "2021-10-31T10:13:18.825228",
     "exception": false,
     "start_time": "2021-10-31T10:13:18.780471",
     "status": "completed"
    },
    "tags": []
   },
   "outputs": [],
   "source": [
    "# Apparent Temperature and Temperax.drop('Apparent Temperature (C)',axis=1,inplace=True)ture are highly correlated (correlation almost equal to 1). So, we can drop one of them.\n",
    "x.drop('Apparent Temperature (C)',axis=1,inplace=True)"
   ]
  },
  {
   "cell_type": "markdown",
   "id": "84653018",
   "metadata": {
    "papermill": {
     "duration": 0.031191,
     "end_time": "2021-10-31T10:13:18.889346",
     "exception": false,
     "start_time": "2021-10-31T10:13:18.858155",
     "status": "completed"
    },
    "tags": []
   },
   "source": []
  },
  {
   "cell_type": "code",
   "execution_count": 20,
   "id": "e154601e",
   "metadata": {
    "execution": {
     "iopub.execute_input": "2021-10-31T10:13:18.969388Z",
     "iopub.status.busy": "2021-10-31T10:13:18.968520Z",
     "iopub.status.idle": "2021-10-31T10:13:18.971947Z",
     "shell.execute_reply": "2021-10-31T10:13:18.972460Z",
     "shell.execute_reply.started": "2021-10-31T05:42:45.504988Z"
    },
    "papermill": {
     "duration": 0.051379,
     "end_time": "2021-10-31T10:13:18.972629",
     "exception": false,
     "start_time": "2021-10-31T10:13:18.921250",
     "status": "completed"
    },
    "tags": []
   },
   "outputs": [
    {
     "data": {
      "text/html": [
       "<div>\n",
       "<style scoped>\n",
       "    .dataframe tbody tr th:only-of-type {\n",
       "        vertical-align: middle;\n",
       "    }\n",
       "\n",
       "    .dataframe tbody tr th {\n",
       "        vertical-align: top;\n",
       "    }\n",
       "\n",
       "    .dataframe thead th {\n",
       "        text-align: right;\n",
       "    }\n",
       "</style>\n",
       "<table border=\"1\" class=\"dataframe\">\n",
       "  <thead>\n",
       "    <tr style=\"text-align: right;\">\n",
       "      <th></th>\n",
       "      <th>Precip Type</th>\n",
       "      <th>Temperature (C)</th>\n",
       "      <th>Humidity</th>\n",
       "      <th>Wind Speed (km/h)</th>\n",
       "      <th>Visibility (km)</th>\n",
       "      <th>Pressure (millibars)</th>\n",
       "    </tr>\n",
       "  </thead>\n",
       "  <tbody>\n",
       "    <tr>\n",
       "      <th>0</th>\n",
       "      <td>0</td>\n",
       "      <td>9.472222</td>\n",
       "      <td>0.89</td>\n",
       "      <td>14.1197</td>\n",
       "      <td>15.8263</td>\n",
       "      <td>1015.13</td>\n",
       "    </tr>\n",
       "    <tr>\n",
       "      <th>1</th>\n",
       "      <td>0</td>\n",
       "      <td>9.355556</td>\n",
       "      <td>0.86</td>\n",
       "      <td>14.2646</td>\n",
       "      <td>15.8263</td>\n",
       "      <td>1015.63</td>\n",
       "    </tr>\n",
       "    <tr>\n",
       "      <th>2</th>\n",
       "      <td>0</td>\n",
       "      <td>9.377778</td>\n",
       "      <td>0.89</td>\n",
       "      <td>3.9284</td>\n",
       "      <td>14.9569</td>\n",
       "      <td>1015.94</td>\n",
       "    </tr>\n",
       "    <tr>\n",
       "      <th>3</th>\n",
       "      <td>0</td>\n",
       "      <td>8.288889</td>\n",
       "      <td>0.83</td>\n",
       "      <td>14.1036</td>\n",
       "      <td>15.8263</td>\n",
       "      <td>1016.41</td>\n",
       "    </tr>\n",
       "    <tr>\n",
       "      <th>4</th>\n",
       "      <td>0</td>\n",
       "      <td>8.755556</td>\n",
       "      <td>0.83</td>\n",
       "      <td>11.0446</td>\n",
       "      <td>15.8263</td>\n",
       "      <td>1016.51</td>\n",
       "    </tr>\n",
       "    <tr>\n",
       "      <th>...</th>\n",
       "      <td>...</td>\n",
       "      <td>...</td>\n",
       "      <td>...</td>\n",
       "      <td>...</td>\n",
       "      <td>...</td>\n",
       "      <td>...</td>\n",
       "    </tr>\n",
       "    <tr>\n",
       "      <th>96448</th>\n",
       "      <td>0</td>\n",
       "      <td>26.016667</td>\n",
       "      <td>0.43</td>\n",
       "      <td>10.9963</td>\n",
       "      <td>16.1000</td>\n",
       "      <td>1014.36</td>\n",
       "    </tr>\n",
       "    <tr>\n",
       "      <th>96449</th>\n",
       "      <td>0</td>\n",
       "      <td>24.583333</td>\n",
       "      <td>0.48</td>\n",
       "      <td>10.0947</td>\n",
       "      <td>15.5526</td>\n",
       "      <td>1015.16</td>\n",
       "    </tr>\n",
       "    <tr>\n",
       "      <th>96450</th>\n",
       "      <td>0</td>\n",
       "      <td>22.038889</td>\n",
       "      <td>0.56</td>\n",
       "      <td>8.9838</td>\n",
       "      <td>16.1000</td>\n",
       "      <td>1015.66</td>\n",
       "    </tr>\n",
       "    <tr>\n",
       "      <th>96451</th>\n",
       "      <td>0</td>\n",
       "      <td>21.522222</td>\n",
       "      <td>0.60</td>\n",
       "      <td>10.5294</td>\n",
       "      <td>16.1000</td>\n",
       "      <td>1015.95</td>\n",
       "    </tr>\n",
       "    <tr>\n",
       "      <th>96452</th>\n",
       "      <td>0</td>\n",
       "      <td>20.438889</td>\n",
       "      <td>0.61</td>\n",
       "      <td>5.8765</td>\n",
       "      <td>15.5204</td>\n",
       "      <td>1016.16</td>\n",
       "    </tr>\n",
       "  </tbody>\n",
       "</table>\n",
       "<p>96453 rows × 6 columns</p>\n",
       "</div>"
      ],
      "text/plain": [
       "       Precip Type  Temperature (C)  Humidity  Wind Speed (km/h)  \\\n",
       "0                0         9.472222      0.89            14.1197   \n",
       "1                0         9.355556      0.86            14.2646   \n",
       "2                0         9.377778      0.89             3.9284   \n",
       "3                0         8.288889      0.83            14.1036   \n",
       "4                0         8.755556      0.83            11.0446   \n",
       "...            ...              ...       ...                ...   \n",
       "96448            0        26.016667      0.43            10.9963   \n",
       "96449            0        24.583333      0.48            10.0947   \n",
       "96450            0        22.038889      0.56             8.9838   \n",
       "96451            0        21.522222      0.60            10.5294   \n",
       "96452            0        20.438889      0.61             5.8765   \n",
       "\n",
       "       Visibility (km)  Pressure (millibars)  \n",
       "0              15.8263               1015.13  \n",
       "1              15.8263               1015.63  \n",
       "2              14.9569               1015.94  \n",
       "3              15.8263               1016.41  \n",
       "4              15.8263               1016.51  \n",
       "...                ...                   ...  \n",
       "96448          16.1000               1014.36  \n",
       "96449          15.5526               1015.16  \n",
       "96450          16.1000               1015.66  \n",
       "96451          16.1000               1015.95  \n",
       "96452          15.5204               1016.16  \n",
       "\n",
       "[96453 rows x 6 columns]"
      ]
     },
     "execution_count": 20,
     "metadata": {},
     "output_type": "execute_result"
    }
   ],
   "source": [
    "x"
   ]
  },
  {
   "cell_type": "code",
   "execution_count": 21,
   "id": "76fb4300",
   "metadata": {
    "execution": {
     "iopub.execute_input": "2021-10-31T10:13:19.042234Z",
     "iopub.status.busy": "2021-10-31T10:13:19.041032Z",
     "iopub.status.idle": "2021-10-31T10:13:19.047901Z",
     "shell.execute_reply": "2021-10-31T10:13:19.047207Z",
     "shell.execute_reply.started": "2021-10-31T05:42:48.834698Z"
    },
    "papermill": {
     "duration": 0.043267,
     "end_time": "2021-10-31T10:13:19.048050",
     "exception": false,
     "start_time": "2021-10-31T10:13:19.004783",
     "status": "completed"
    },
    "tags": []
   },
   "outputs": [
    {
     "data": {
      "text/plain": [
       "(96453, 6)"
      ]
     },
     "execution_count": 21,
     "metadata": {},
     "output_type": "execute_result"
    }
   ],
   "source": [
    "x.shape"
   ]
  },
  {
   "cell_type": "code",
   "execution_count": 22,
   "id": "b50e7a39",
   "metadata": {
    "execution": {
     "iopub.execute_input": "2021-10-31T10:13:19.117777Z",
     "iopub.status.busy": "2021-10-31T10:13:19.117043Z",
     "iopub.status.idle": "2021-10-31T10:13:19.194900Z",
     "shell.execute_reply": "2021-10-31T10:13:19.194259Z",
     "shell.execute_reply.started": "2021-10-31T05:42:59.544738Z"
    },
    "papermill": {
     "duration": 0.113602,
     "end_time": "2021-10-31T10:13:19.195049",
     "exception": false,
     "start_time": "2021-10-31T10:13:19.081447",
     "status": "completed"
    },
    "tags": []
   },
   "outputs": [],
   "source": [
    "# Splitting the dataset into train data and test data\n",
    "# Train dataset is 70% of and Test dataset is 30% of original dataset\n",
    "\n",
    "from sklearn.model_selection import train_test_split\n",
    "\n",
    "x_train,x_test,y_train,y_test = train_test_split(x,y,test_size=0.3,random_state=1)"
   ]
  },
  {
   "cell_type": "code",
   "execution_count": 23,
   "id": "8df8a78b",
   "metadata": {
    "execution": {
     "iopub.execute_input": "2021-10-31T10:13:19.265927Z",
     "iopub.status.busy": "2021-10-31T10:13:19.264972Z",
     "iopub.status.idle": "2021-10-31T10:13:19.268573Z",
     "shell.execute_reply": "2021-10-31T10:13:19.269052Z",
     "shell.execute_reply.started": "2021-10-31T05:43:03.983988Z"
    },
    "papermill": {
     "duration": 0.041677,
     "end_time": "2021-10-31T10:13:19.269226",
     "exception": false,
     "start_time": "2021-10-31T10:13:19.227549",
     "status": "completed"
    },
    "tags": []
   },
   "outputs": [
    {
     "data": {
      "text/plain": [
       "(67517, 6)"
      ]
     },
     "execution_count": 23,
     "metadata": {},
     "output_type": "execute_result"
    }
   ],
   "source": [
    "x_train.shape"
   ]
  },
  {
   "cell_type": "code",
   "execution_count": 24,
   "id": "3685f8ca",
   "metadata": {
    "execution": {
     "iopub.execute_input": "2021-10-31T10:13:19.338593Z",
     "iopub.status.busy": "2021-10-31T10:13:19.337562Z",
     "iopub.status.idle": "2021-10-31T10:13:19.342875Z",
     "shell.execute_reply": "2021-10-31T10:13:19.343358Z",
     "shell.execute_reply.started": "2021-10-31T05:43:10.297906Z"
    },
    "papermill": {
     "duration": 0.041718,
     "end_time": "2021-10-31T10:13:19.343537",
     "exception": false,
     "start_time": "2021-10-31T10:13:19.301819",
     "status": "completed"
    },
    "tags": []
   },
   "outputs": [
    {
     "data": {
      "text/plain": [
       "(28936, 6)"
      ]
     },
     "execution_count": 24,
     "metadata": {},
     "output_type": "execute_result"
    }
   ],
   "source": [
    "x_test.shape"
   ]
  },
  {
   "cell_type": "markdown",
   "id": "d539e561",
   "metadata": {
    "papermill": {
     "duration": 0.033047,
     "end_time": "2021-10-31T10:13:19.409493",
     "exception": false,
     "start_time": "2021-10-31T10:13:19.376446",
     "status": "completed"
    },
    "tags": []
   },
   "source": [
    "# Training the Model"
   ]
  },
  {
   "cell_type": "code",
   "execution_count": 25,
   "id": "7371dbde",
   "metadata": {
    "execution": {
     "iopub.execute_input": "2021-10-31T10:13:19.480954Z",
     "iopub.status.busy": "2021-10-31T10:13:19.479912Z",
     "iopub.status.idle": "2021-10-31T10:13:44.224906Z",
     "shell.execute_reply": "2021-10-31T10:13:44.224295Z",
     "shell.execute_reply.started": "2021-10-31T05:44:07.386704Z"
    },
    "papermill": {
     "duration": 24.781687,
     "end_time": "2021-10-31T10:13:44.225081",
     "exception": false,
     "start_time": "2021-10-31T10:13:19.443394",
     "status": "completed"
    },
    "tags": []
   },
   "outputs": [],
   "source": [
    "# Using Random Forest Classifier algorithm to predict the weather\n",
    "# Training model on test data\n",
    "\n",
    "from sklearn.ensemble import RandomForestClassifier\n",
    "\n",
    "RF = RandomForestClassifier(max_depth=32,n_estimators=120,random_state=1)\n",
    "RF.fit(x_train,y_train)\n",
    "y_pred = RF.predict(x_test)"
   ]
  },
  {
   "cell_type": "markdown",
   "id": "4bdac0d5",
   "metadata": {
    "papermill": {
     "duration": 0.032682,
     "end_time": "2021-10-31T10:13:44.351916",
     "exception": false,
     "start_time": "2021-10-31T10:13:44.319234",
     "status": "completed"
    },
    "tags": []
   },
   "source": []
  },
  {
   "cell_type": "markdown",
   "id": "c2c01096",
   "metadata": {
    "papermill": {
     "duration": 0.032629,
     "end_time": "2021-10-31T10:13:44.417529",
     "exception": false,
     "start_time": "2021-10-31T10:13:44.384900",
     "status": "completed"
    },
    "tags": []
   },
   "source": [
    "# Measuring Accuracy"
   ]
  },
  {
   "cell_type": "markdown",
   "id": "35da7e6d",
   "metadata": {
    "papermill": {
     "duration": 0.032558,
     "end_time": "2021-10-31T10:13:44.483040",
     "exception": false,
     "start_time": "2021-10-31T10:13:44.450482",
     "status": "completed"
    },
    "tags": []
   },
   "source": []
  },
  {
   "cell_type": "code",
   "execution_count": 26,
   "id": "bbb1e362",
   "metadata": {
    "execution": {
     "iopub.execute_input": "2021-10-31T10:13:44.553305Z",
     "iopub.status.busy": "2021-10-31T10:13:44.552294Z",
     "iopub.status.idle": "2021-10-31T10:13:44.561290Z",
     "shell.execute_reply": "2021-10-31T10:13:44.560778Z",
     "shell.execute_reply.started": "2021-10-31T05:45:09.665919Z"
    },
    "papermill": {
     "duration": 0.044942,
     "end_time": "2021-10-31T10:13:44.561438",
     "exception": false,
     "start_time": "2021-10-31T10:13:44.516496",
     "status": "completed"
    },
    "tags": []
   },
   "outputs": [
    {
     "data": {
      "text/plain": [
       "0.5621025711915952"
      ]
     },
     "execution_count": 26,
     "metadata": {},
     "output_type": "execute_result"
    }
   ],
   "source": [
    "# Finding accuracy of model using test data\n",
    "from sklearn.metrics import accuracy_score\n",
    "accuracy_score(y_test, y_pred)"
   ]
  },
  {
   "cell_type": "code",
   "execution_count": 27,
   "id": "0d0615ce",
   "metadata": {
    "execution": {
     "iopub.execute_input": "2021-10-31T10:13:44.632293Z",
     "iopub.status.busy": "2021-10-31T10:13:44.631359Z",
     "iopub.status.idle": "2021-10-31T10:13:44.711626Z",
     "shell.execute_reply": "2021-10-31T10:13:44.710957Z",
     "shell.execute_reply.started": "2021-10-31T05:45:19.617195Z"
    },
    "papermill": {
     "duration": 0.116981,
     "end_time": "2021-10-31T10:13:44.711788",
     "exception": false,
     "start_time": "2021-10-31T10:13:44.594807",
     "status": "completed"
    },
    "tags": []
   },
   "outputs": [
    {
     "data": {
      "text/plain": [
       "array([0.00550319, 0.20707596, 0.15100808, 0.19850728, 0.23041043,\n",
       "       0.20749505])"
      ]
     },
     "execution_count": 27,
     "metadata": {},
     "output_type": "execute_result"
    }
   ],
   "source": [
    "# To see importance of each variable in prediction\n",
    "RF.feature_importances_"
   ]
  },
  {
   "cell_type": "code",
   "execution_count": null,
   "id": "5688cd7a",
   "metadata": {
    "papermill": {
     "duration": 0.034091,
     "end_time": "2021-10-31T10:13:44.779692",
     "exception": false,
     "start_time": "2021-10-31T10:13:44.745601",
     "status": "completed"
    },
    "tags": []
   },
   "outputs": [],
   "source": []
  }
 ],
 "metadata": {
  "kernelspec": {
   "display_name": "Python 3",
   "language": "python",
   "name": "python3"
  },
  "language_info": {
   "codemirror_mode": {
    "name": "ipython",
    "version": 3
   },
   "file_extension": ".py",
   "mimetype": "text/x-python",
   "name": "python",
   "nbconvert_exporter": "python",
   "pygments_lexer": "ipython3",
   "version": "3.7.10"
  },
  "papermill": {
   "default_parameters": {},
   "duration": 39.693196,
   "end_time": "2021-10-31T10:13:45.624237",
   "environment_variables": {},
   "exception": null,
   "input_path": "__notebook__.ipynb",
   "output_path": "__notebook__.ipynb",
   "parameters": {},
   "start_time": "2021-10-31T10:13:05.931041",
   "version": "2.3.3"
  }
 },
 "nbformat": 4,
 "nbformat_minor": 5
}
